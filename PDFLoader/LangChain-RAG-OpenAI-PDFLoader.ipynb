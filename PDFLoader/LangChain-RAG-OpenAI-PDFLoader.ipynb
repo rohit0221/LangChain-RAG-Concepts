{
 "cells": [
  {
   "cell_type": "code",
   "execution_count": 1,
   "metadata": {},
   "outputs": [
    {
     "data": {
      "text/plain": [
       "True"
      ]
     },
     "execution_count": 1,
     "metadata": {},
     "output_type": "execute_result"
    }
   ],
   "source": [
    "import os\n",
    "from dotenv import load_dotenv\n",
    "load_dotenv()"
   ]
  },
  {
   "cell_type": "code",
   "execution_count": 2,
   "metadata": {},
   "outputs": [],
   "source": [
    "from langchain import hub\n",
    "from langchain_chroma import Chroma\n",
    "from langchain_core.output_parsers import StrOutputParser\n",
    "from langchain_core.runnables import RunnablePassthrough\n",
    "from langchain_openai import OpenAIEmbeddings\n",
    "from langchain_text_splitters import RecursiveCharacterTextSplitter"
   ]
  },
  {
   "cell_type": "code",
   "execution_count": 3,
   "metadata": {},
   "outputs": [],
   "source": [
    "from langchain_openai import ChatOpenAI\n",
    "\n",
    "llm = ChatOpenAI(model=\"gpt-3.5-turbo-0125\")"
   ]
  },
  {
   "cell_type": "code",
   "execution_count": 4,
   "metadata": {},
   "outputs": [],
   "source": [
    "from langchain_community.document_loaders import PyPDFDirectoryLoader\n",
    "loader = PyPDFDirectoryLoader(\"../documents/\")\n",
    "docs = loader.load()"
   ]
  },
  {
   "cell_type": "code",
   "execution_count": 5,
   "metadata": {},
   "outputs": [
    {
     "data": {
      "text/plain": [
       "103"
      ]
     },
     "execution_count": 5,
     "metadata": {},
     "output_type": "execute_result"
    }
   ],
   "source": [
    "len(docs[0].page_content)"
   ]
  },
  {
   "cell_type": "code",
   "execution_count": 6,
   "metadata": {},
   "outputs": [
    {
     "name": "stdout",
     "output_type": "stream",
     "text": [
      "CONTENTS \n",
      "PART-A \n",
      " Page No.  \n",
      " Introduction 1 \n",
      " Achievements since 2014: Leaving no one behind 2 \n",
      " Vision for Amrit Kaal  – an empowered and inclusive economy 3 \n",
      " Priorities of this Budget 5 \n",
      "i. Inclusive Development  \n",
      "ii. Reaching the Last Mile \n",
      "iii. Infrastructure and Investment \n",
      "iv. Unleashing the Potential \n",
      "v. Green Growth \n",
      "vi. Youth Power  \n",
      "vii. Financial Sector  \n",
      " \n",
      " \n",
      " \n",
      " \n",
      " \n",
      " \n",
      " \n",
      " \n",
      " Fiscal Management 24 \n",
      "PART B  \n",
      "  \n",
      "Indirect Taxes  27 \n",
      " Green Mobility  \n",
      " Electronics   \n",
      " Electrical   \n",
      " Chemicals and Petrochemicals   \n",
      " Marine products  \n",
      " Lab Grown Diamonds  \n",
      " Precious Metals  \n",
      " Metals  \n",
      " Compounded Rubber  \n",
      " Cigarettes  \n",
      "  \n",
      "Direct Taxes  30 \n",
      " MSMEs and Professionals   \n",
      " Cooperation  \n",
      " Start-Ups  \n",
      " Appeals  \n",
      " Better targeting of tax concessions  \n",
      " Rationalisation  \n",
      " Others  \n",
      " Personal Income Tax  \n",
      "  \n",
      "Annexures  35 \n",
      " Annexure to Part B of the Budget Speech 2023-24 \n",
      "i. Amendments relating to Direct Taxes \n",
      "ii. Amendments relating to Indirect Taxes  \n",
      " \n"
     ]
    }
   ],
   "source": [
    "print(docs[2].page_content[:5000])"
   ]
  },
  {
   "cell_type": "code",
   "execution_count": 7,
   "metadata": {},
   "outputs": [],
   "source": [
    "text_splitter = RecursiveCharacterTextSplitter(chunk_size=1000, chunk_overlap=200)"
   ]
  },
  {
   "cell_type": "code",
   "execution_count": 8,
   "metadata": {},
   "outputs": [],
   "source": [
    "splits = text_splitter.split_documents(docs)"
   ]
  },
  {
   "cell_type": "code",
   "execution_count": 9,
   "metadata": {},
   "outputs": [
    {
     "data": {
      "text/plain": [
       "122"
      ]
     },
     "execution_count": 9,
     "metadata": {},
     "output_type": "execute_result"
    }
   ],
   "source": [
    "len(splits)"
   ]
  },
  {
   "cell_type": "code",
   "execution_count": 10,
   "metadata": {},
   "outputs": [
    {
     "data": {
      "text/plain": [
       "103"
      ]
     },
     "execution_count": 10,
     "metadata": {},
     "output_type": "execute_result"
    }
   ],
   "source": [
    "len(splits[0].page_content)"
   ]
  },
  {
   "cell_type": "code",
   "execution_count": 11,
   "metadata": {},
   "outputs": [
    {
     "data": {
      "text/plain": [
       "{'source': '..\\\\documents\\\\Budget_Speech.pdf', 'page': 7}"
      ]
     },
     "execution_count": 11,
     "metadata": {},
     "output_type": "execute_result"
    }
   ],
   "source": [
    "splits[10].metadata"
   ]
  },
  {
   "cell_type": "code",
   "execution_count": 12,
   "metadata": {},
   "outputs": [],
   "source": [
    "vectorstore = Chroma.from_documents(documents=splits, embedding=OpenAIEmbeddings())"
   ]
  },
  {
   "cell_type": "code",
   "execution_count": 13,
   "metadata": {},
   "outputs": [],
   "source": [
    "retriever = vectorstore.as_retriever(search_type=\"similarity\", search_kwargs={\"k\": 6})"
   ]
  },
  {
   "cell_type": "code",
   "execution_count": 14,
   "metadata": {},
   "outputs": [],
   "source": [
    "retrieved_docs = retriever.invoke(\"What is Amrit kaal in Budget 2024?\")"
   ]
  },
  {
   "cell_type": "code",
   "execution_count": 15,
   "metadata": {},
   "outputs": [
    {
     "data": {
      "text/plain": [
       "6"
      ]
     },
     "execution_count": 15,
     "metadata": {},
     "output_type": "execute_result"
    }
   ],
   "source": [
    "len(retrieved_docs)"
   ]
  },
  {
   "cell_type": "code",
   "execution_count": 16,
   "metadata": {},
   "outputs": [
    {
     "name": "stdout",
     "output_type": "stream",
     "text": [
      "Budget 2023-2024 \n",
      " \n",
      "Speech of  \n",
      "Nirmala Sitharaman \n",
      "Minister of Finance \n",
      "February 1, 2023 \n",
      "Hon’ble Speaker,  \n",
      " I present the Budget for 2023-24. This is the first Budget in Amrit \n",
      "Kaal . \n",
      "Introduction \n",
      "1. This Budget hopes to build on the foundation laid in the previous \n",
      "Budget, and the blueprint drawn for India@100. We envision a prosperous \n",
      "and inclusive India, in which the fruits of development reach all regions and \n",
      "citizens, especially our youth, women, farmers, OBCs, Scheduled Castes and \n",
      "Scheduled Tribes.  \n",
      "2. In the 75th year of our Independence, the world has recognised the \n",
      "Indian economy as a ‘bright star’. Our current year’s economic growth is \n",
      "estimated to be at 7 per cent. It is notable that this is the highest among all \n",
      "the major economies. This is in spite of the massive slowdown globally \n",
      "caused by Covid-19 and a war. The Indian economy is therefore on the right \n",
      "track, and despite a time of challenges, heading towards a bright future.\n"
     ]
    }
   ],
   "source": [
    "print(retrieved_docs[0].page_content)"
   ]
  },
  {
   "cell_type": "code",
   "execution_count": 17,
   "metadata": {},
   "outputs": [],
   "source": [
    "from langchain_core.prompts import PromptTemplate\n",
    "\n",
    "template = \"\"\"Use the following pieces of context to answer the question at the end.\n",
    "If you don't know the answer, just say that you don't know, don't try to make up an answer.\n",
    "Use three sentences maximum and keep the answer as concise as possible.\n",
    "Always say \"thanks for asking!\" at the end of the answer.\n",
    "\n",
    "{context}\n",
    "\n",
    "Question: {question}\n",
    "\n",
    "Helpful Answer:\"\"\"\n",
    "custom_rag_prompt = PromptTemplate.from_template(template)"
   ]
  },
  {
   "cell_type": "code",
   "execution_count": null,
   "metadata": {},
   "outputs": [],
   "source": [
    "#Prompt from prompt hub\n",
    "\n",
    "#prompt = hub.pull(\"rlm/rag-prompt\")"
   ]
  },
  {
   "cell_type": "code",
   "execution_count": 18,
   "metadata": {},
   "outputs": [],
   "source": [
    "def format_docs(docs):\n",
    "    return \"\\n\\n\".join(doc.page_content for doc in docs)"
   ]
  },
  {
   "cell_type": "code",
   "execution_count": 19,
   "metadata": {},
   "outputs": [],
   "source": [
    "rag_chain = (\n",
    "    {\"context\": retriever | format_docs, \"question\": RunnablePassthrough()}\n",
    "    | custom_rag_prompt\n",
    "    | llm\n",
    "    | StrOutputParser()\n",
    ")"
   ]
  },
  {
   "cell_type": "code",
   "execution_count": 20,
   "metadata": {},
   "outputs": [
    {
     "name": "stdout",
     "output_type": "stream",
     "text": [
      "Amrit Kaal in Budget 2024 refers to a vision for an empowered and inclusive economy with a focus on technology-driven and knowledge-based growth. This includes strong public finances, a robust financial sector, and initiatives like Jan Bhagidari through Sabka Saath Sabka Prayas. Thanks for asking!"
     ]
    }
   ],
   "source": [
    "for chunk in rag_chain.stream(\"What is Amrit kaal in Budget 2024?\"):\n",
    "    print(chunk, end=\"\", flush=True)"
   ]
  },
  {
   "cell_type": "code",
   "execution_count": null,
   "metadata": {},
   "outputs": [],
   "source": [
    "vectorstore.delete_collection()"
   ]
  },
  {
   "cell_type": "code",
   "execution_count": null,
   "metadata": {},
   "outputs": [],
   "source": []
  }
 ],
 "metadata": {
  "kernelspec": {
   "display_name": "Python 3",
   "language": "python",
   "name": "python3"
  },
  "language_info": {
   "codemirror_mode": {
    "name": "ipython",
    "version": 3
   },
   "file_extension": ".py",
   "mimetype": "text/x-python",
   "name": "python",
   "nbconvert_exporter": "python",
   "pygments_lexer": "ipython3",
   "version": "3.10.14"
  }
 },
 "nbformat": 4,
 "nbformat_minor": 2
}
